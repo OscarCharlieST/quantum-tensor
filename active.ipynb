{
 "cells": [
  {
   "cell_type": "code",
   "execution_count": 1,
   "id": "7593c220",
   "metadata": {},
   "outputs": [],
   "source": [
    "import numpy as np\n",
    "import matplotlib.pyplot as plt\n",
    "import qtensor.states as states \n",
    "import qtensor.operators as ops\n",
    "from qtensor.simulation.finiteTDVP import tdvp, right_mpo_contractions, gs_evolve\n",
    "import qtensor.simulation.finiteTDVP as sim\n",
    "import qtensor.thermofield as thf "
   ]
  },
  {
   "cell_type": "markdown",
   "id": "a9e7cb4f",
   "metadata": {},
   "source": [
    "Basic state"
   ]
  },
  {
   "cell_type": "code",
   "execution_count": 36,
   "id": "55a51f6a",
   "metadata": {},
   "outputs": [],
   "source": [
    "a = np.random.rand(2,3,3) + 1j * np.random.rand(2,3,3)\n",
    "b = np.random.rand(2,3,3) + 1j * np.random.rand(2,3,3)\n",
    "\n",
    "psi = states.mps([a, a, b, a, b])\n",
    "psi.right_canonical()\n",
    "\n",
    "H = ops.tilted_ising(N=5)\n",
    "\n",
    "H_spin_up = ops.tilted_ising(J=0, h=1, g=0, N=5)\n"
   ]
  },
  {
   "cell_type": "markdown",
   "id": "656e4c35",
   "metadata": {},
   "source": [
    "Ground state evolve"
   ]
  },
  {
   "cell_type": "code",
   "execution_count": 37,
   "id": "818ebc80",
   "metadata": {},
   "outputs": [
    {
     "name": "stdout",
     "output_type": "stream",
     "text": [
      "Intial energy: (0.3688268833390648-1.8839358890344946e-16j)\n",
      "Initiating TDVP\n",
      "TDVP finished!\n",
      "Final energy: (-4.999999999999678-2.914334599291558e-16j)\n"
     ]
    }
   ],
   "source": [
    "psi = gs_evolve(psi, H_spin_up, 1000, 100)"
   ]
  },
  {
   "cell_type": "markdown",
   "id": "e5048436",
   "metadata": {},
   "source": [
    "Thermofield stuff"
   ]
  },
  {
   "cell_type": "code",
   "execution_count": 2,
   "id": "570d1fe9",
   "metadata": {},
   "outputs": [],
   "source": [
    "N = 8\n",
    "D = 8\n",
    "H_usual = ops.tilted_ising(N=N)\n",
    "beta = 1000\n",
    "H_th = thf.thermofield_hamiltonian(H_usual)\n"
   ]
  },
  {
   "cell_type": "code",
   "execution_count": 3,
   "id": "b2b578bc",
   "metadata": {},
   "outputs": [
    {
     "name": "stdout",
     "output_type": "stream",
     "text": [
      "Intial energy: (0.020503272680248055+9.899102491720557e-17j)\n",
      "Initiating TDVP\n",
      "TDVP finished!\n",
      "Final energy: (-7.9999961903288215+6.627345557524767e-16j)\n",
      "Initiating TDVP\n",
      "TDVP finished!\n",
      "Energy at finite temperature: -9.590983998255652\n"
     ]
    },
    {
     "data": {
      "image/png": "[encoded data removed]",
      "text/plain": [
       "<Figure size 640x480 with 1 Axes>"
      ]
     },
     "metadata": {},
     "output_type": "display_data"
    }
   ],
   "source": [
    "beta_psi, times, energies = thf.finite_T_thermofield(beta, N, D, H_th, steps=200)"
   ]
  },
  {
   "cell_type": "code",
   "execution_count": 4,
   "id": "43a0d5b0",
   "metadata": {},
   "outputs": [
    {
     "name": "stdout",
     "output_type": "stream",
     "text": [
      "Intial energy: (-4.162048062445335-4.426325008087262e-16j)\n",
      "Initiating TDVP\n",
      "TDVP finished!\n",
      "Final energy: (-9.590983998497517+3.469446951953614e-16j)\n"
     ]
    },
    {
     "data": {
      "text/plain": [
       "<qtensor.states.mps at 0x1d48f1f45c0>"
      ]
     },
     "execution_count": 4,
     "metadata": {},
     "output_type": "execute_result"
    }
   ],
   "source": [
    "# compare this to the groundstate energy\n",
    "randpsi = states.random_mps(N, 2, D)\n",
    "gs_evolve(randpsi, H_usual)"
   ]
  },
  {
   "cell_type": "code",
   "execution_count": null,
   "id": "72b221dc",
   "metadata": {},
   "outputs": [
    {
     "name": "stdout",
     "output_type": "stream",
     "text": [
      "Intial energy: (-0.08589948685700408+1.4023086957546302e-16j)\n",
      "Initiating TDVP\n",
      "TDVP finished!\n",
      "Final energy: (-9.99999261204489+1.231239316631093e-18j)\n"
     ]
    }
   ],
   "source": [
    "psi = sim.inf_T_thermofield_variational(10, 8)"
   ]
  },
  {
   "cell_type": "code",
   "execution_count": 3,
   "id": "b37ab0ff",
   "metadata": {},
   "outputs": [
    {
     "name": "stdout",
     "output_type": "stream",
     "text": [
      "copied\n"
     ]
    },
    {
     "data": {
      "text/plain": [
       "7.387955291037075e-07"
      ]
     },
     "execution_count": 3,
     "metadata": {},
     "output_type": "execute_result"
    }
   ],
   "source": [
    "states.partite_entropy(psi, 3)"
   ]
  }
 ],
 "metadata": {
  "kernelspec": {
   "display_name": "base",
   "language": "python",
   "name": "python3"
  },
  "language_info": {
   "codemirror_mode": {
    "name": "ipython",
    "version": 3
   },
   "file_extension": ".py",
   "mimetype": "text/x-python",
   "name": "python",
   "nbconvert_exporter": "python",
   "pygments_lexer": "ipython3",
   "version": "3.12.7"
  }
 },
 "nbformat": 4,
 "nbformat_minor": 5
}
