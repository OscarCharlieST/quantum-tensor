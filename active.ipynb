{
 "cells": [
  {
   "cell_type": "code",
   "execution_count": 1,
   "id": "7593c220",
   "metadata": {},
   "outputs": [],
   "source": [
    "import numpy as np\n",
    "import matplotlib.pyplot as plt\n",
    "import qtensor.states as states \n",
    "import qtensor.operators as ops\n",
    "from qtensor.simulation.finiteTDVP import tdvp, right_mpo_contractions, gs_evolve\n",
    "import qtensor.thermofield as thf "
   ]
  },
  {
   "cell_type": "markdown",
   "id": "a9e7cb4f",
   "metadata": {},
   "source": [
    "Basic state"
   ]
  },
  {
   "cell_type": "code",
   "execution_count": 36,
   "id": "55a51f6a",
   "metadata": {},
   "outputs": [],
   "source": [
    "a = np.random.rand(2,3,3) + 1j * np.random.rand(2,3,3)\n",
    "b = np.random.rand(2,3,3) + 1j * np.random.rand(2,3,3)\n",
    "\n",
    "psi = states.mps([a, a, b, a, b])\n",
    "psi.right_canonical()\n",
    "\n",
    "H = ops.tilted_ising(N=5)\n",
    "\n",
    "H_spin_up = ops.tilted_ising(J=0, h=1, g=0, N=5)\n"
   ]
  },
  {
   "cell_type": "markdown",
   "id": "656e4c35",
   "metadata": {},
   "source": [
    "Ground state evolve"
   ]
  },
  {
   "cell_type": "code",
   "execution_count": 37,
   "id": "818ebc80",
   "metadata": {},
   "outputs": [
    {
     "name": "stdout",
     "output_type": "stream",
     "text": [
      "Intial energy: (0.3688268833390648-1.8839358890344946e-16j)\n",
      "Initiating TDVP\n",
      "TDVP finished!\n",
      "Final energy: (-4.999999999999678-2.914334599291558e-16j)\n"
     ]
    }
   ],
   "source": [
    "psi = gs_evolve(psi, H_spin_up, 1000, 100)"
   ]
  },
  {
   "cell_type": "markdown",
   "id": "e5048436",
   "metadata": {},
   "source": [
    "Thermofield stuff"
   ]
  },
  {
   "cell_type": "code",
   "execution_count": 6,
   "id": "570d1fe9",
   "metadata": {},
   "outputs": [
    {
     "name": "stdout",
     "output_type": "stream",
     "text": [
      "Initiating TDVP\n"
     ]
    },
    {
     "ename": "NameError",
     "evalue": "name 'left_orthogonal' is not defined",
     "output_type": "error",
     "traceback": [
      "\u001b[1;31m---------------------------------------------------------------------------\u001b[0m",
      "\u001b[1;31mNameError\u001b[0m                                 Traceback (most recent call last)",
      "Cell \u001b[1;32mIn[6], line 7\u001b[0m\n\u001b[0;32m      5\u001b[0m H_th \u001b[38;5;241m=\u001b[39m thf\u001b[38;5;241m.\u001b[39mthermofield_hamiltonian(H_usual)\n\u001b[0;32m      6\u001b[0m H_usual\u001b[38;5;241m.\u001b[39msites\n\u001b[1;32m----> 7\u001b[0m beta_psi \u001b[38;5;241m=\u001b[39m thf\u001b[38;5;241m.\u001b[39mfinite_T_thermofield(beta, N, D, H_th, noise\u001b[38;5;241m=\u001b[39m\u001b[38;5;241m0.1\u001b[39m, steps\u001b[38;5;241m=\u001b[39m\u001b[38;5;241m500\u001b[39m)\n",
      "File \u001b[1;32mc:\\Users\\osolomonstuke\\quantum-tensor\\qtensor\\thermofield.py:70\u001b[0m, in \u001b[0;36mfinite_T_thermofield\u001b[1;34m(beta, N, D, H, noise, steps, plot)\u001b[0m\n\u001b[0;32m     68\u001b[0m state \u001b[38;5;241m=\u001b[39m infinite_T_thermofield(N, D, noise)\n\u001b[0;32m     69\u001b[0m state\u001b[38;5;241m.\u001b[39mright_canonical()\n\u001b[1;32m---> 70\u001b[0m state_hist, energy \u001b[38;5;241m=\u001b[39m tdvp(state, H, \u001b[38;5;241m-\u001b[39m\u001b[38;5;241m1\u001b[39mj\u001b[38;5;241m*\u001b[39mbeta\u001b[38;5;241m*\u001b[39m\u001b[38;5;241m1\u001b[39m\u001b[38;5;241m/\u001b[39m\u001b[38;5;241m4\u001b[39m, \u001b[38;5;241m-\u001b[39m\u001b[38;5;241m1\u001b[39mj\u001b[38;5;241m*\u001b[39m(beta\u001b[38;5;241m*\u001b[39m\u001b[38;5;241m1\u001b[39m\u001b[38;5;241m/\u001b[39m\u001b[38;5;241m4\u001b[39m)\u001b[38;5;241m/\u001b[39msteps, history\u001b[38;5;241m=\u001b[39m\u001b[38;5;28;01mTrue\u001b[39;00m, operators\u001b[38;5;241m=\u001b[39m[H])\n\u001b[0;32m     71\u001b[0m \u001b[38;5;28;01mif\u001b[39;00m plot:\n\u001b[0;32m     72\u001b[0m     fig, ax \u001b[38;5;241m=\u001b[39m plt\u001b[38;5;241m.\u001b[39msubplots(\u001b[38;5;241m1\u001b[39m,\u001b[38;5;241m1\u001b[39m)\n",
      "File \u001b[1;32mc:\\Users\\osolomonstuke\\quantum-tensor\\qtensor\\simulation\\finiteTDVP.py:52\u001b[0m, in \u001b[0;36mtdvp\u001b[1;34m(state, operator, t_f, steps, history, verbose, **kwargs)\u001b[0m\n\u001b[0;32m     48\u001b[0m     expectations[t] \u001b[38;5;241m=\u001b[39m [expect(state, op) \u001b[38;5;28;01mfor\u001b[39;00m op \u001b[38;5;129;01min\u001b[39;00m kwargs[\u001b[38;5;124m'\u001b[39m\u001b[38;5;124moperators\u001b[39m\u001b[38;5;124m'\u001b[39m]]\n\u001b[0;32m     50\u001b[0m L_con \u001b[38;5;241m=\u001b[39m {\u001b[38;5;28mmin\u001b[39m(state\u001b[38;5;241m.\u001b[39msites)\u001b[38;5;241m-\u001b[39m\u001b[38;5;241m1\u001b[39m: \n\u001b[0;32m     51\u001b[0m         ncon((state\u001b[38;5;241m.\u001b[39mL\u001b[38;5;241m.\u001b[39mconj()\u001b[38;5;241m.\u001b[39mT \u001b[38;5;241m@\u001b[39m state\u001b[38;5;241m.\u001b[39mL , operator\u001b[38;5;241m.\u001b[39ml), ((\u001b[38;5;241m-\u001b[39m\u001b[38;5;241m1\u001b[39m, \u001b[38;5;241m-\u001b[39m\u001b[38;5;241m2\u001b[39m), (\u001b[38;5;241m-\u001b[39m\u001b[38;5;241m3\u001b[39m,)))}\n\u001b[1;32m---> 52\u001b[0m state, L_con, _ \u001b[38;5;241m=\u001b[39m tdvp_sweep_r(state, operator, dt, L_con, R_con)\n\u001b[0;32m     53\u001b[0m R_con \u001b[38;5;241m=\u001b[39m {\u001b[38;5;28mmax\u001b[39m(state\u001b[38;5;241m.\u001b[39msites)\u001b[38;5;241m+\u001b[39m\u001b[38;5;241m1\u001b[39m: \n\u001b[0;32m     54\u001b[0m         ncon((state\u001b[38;5;241m.\u001b[39mR \u001b[38;5;241m@\u001b[39m state\u001b[38;5;241m.\u001b[39mR\u001b[38;5;241m.\u001b[39mconj()\u001b[38;5;241m.\u001b[39mT , operator\u001b[38;5;241m.\u001b[39mr), ((\u001b[38;5;241m-\u001b[39m\u001b[38;5;241m1\u001b[39m, \u001b[38;5;241m-\u001b[39m\u001b[38;5;241m2\u001b[39m), (\u001b[38;5;241m-\u001b[39m\u001b[38;5;241m3\u001b[39m,)))}\n\u001b[0;32m     55\u001b[0m state, _, R_con \u001b[38;5;241m=\u001b[39m tdvp_sweep_l(state, operator, dt, L_con, R_con)\n",
      "File \u001b[1;32mc:\\Users\\osolomonstuke\\quantum-tensor\\qtensor\\simulation\\finiteTDVP.py:162\u001b[0m, in \u001b[0;36mtdvp_sweep_r\u001b[1;34m(state, operator, dt, L_con, R_con)\u001b[0m\n\u001b[0;32m    160\u001b[0m state\u001b[38;5;241m.\u001b[39mform \u001b[38;5;241m=\u001b[39m \u001b[38;5;124m'\u001b[39m\u001b[38;5;124mcentre\u001b[39m\u001b[38;5;124m'\u001b[39m  \u001b[38;5;66;03m# set the form to centre after absorbing the left environment\u001b[39;00m\n\u001b[0;32m    161\u001b[0m \u001b[38;5;28;01mwhile\u001b[39;00m state\u001b[38;5;241m.\u001b[39mform \u001b[38;5;241m==\u001b[39m \u001b[38;5;124m'\u001b[39m\u001b[38;5;124mcentre\u001b[39m\u001b[38;5;124m'\u001b[39m:\n\u001b[1;32m--> 162\u001b[0m     state, L_con, R_con \u001b[38;5;241m=\u001b[39m tdvp_step_r(state, operator, dt, L_con, R_con)\n\u001b[0;32m    163\u001b[0m \u001b[38;5;28;01mreturn\u001b[39;00m state, L_con, R_con\n",
      "File \u001b[1;32mc:\\Users\\osolomonstuke\\quantum-tensor\\qtensor\\simulation\\finiteTDVP.py:103\u001b[0m, in \u001b[0;36mtdvp_step_r\u001b[1;34m(state, operator, dt, L_con, R_con)\u001b[0m\n\u001b[0;32m    101\u001b[0m M_new \u001b[38;5;241m=\u001b[39m M \u001b[38;5;241m-\u001b[39m \u001b[38;5;241m1\u001b[39mj \u001b[38;5;241m*\u001b[39m (dt\u001b[38;5;241m/\u001b[39m\u001b[38;5;241m2\u001b[39m) \u001b[38;5;241m*\u001b[39m ncon((M, H_eff), ((\u001b[38;5;241m1\u001b[39m, \u001b[38;5;241m2\u001b[39m, \u001b[38;5;241m3\u001b[39m), (\u001b[38;5;241m1\u001b[39m, \u001b[38;5;241m2\u001b[39m, \u001b[38;5;241m3\u001b[39m, \u001b[38;5;241m-\u001b[39m\u001b[38;5;241m1\u001b[39m, \u001b[38;5;241m-\u001b[39m\u001b[38;5;241m2\u001b[39m, \u001b[38;5;241m-\u001b[39m\u001b[38;5;241m3\u001b[39m)))\n\u001b[0;32m    102\u001b[0m M_new \u001b[38;5;241m=\u001b[39m M_new \u001b[38;5;241m/\u001b[39m la\u001b[38;5;241m.\u001b[39mnorm(M_new)  \u001b[38;5;66;03m# normalize the new tensor\u001b[39;00m\n\u001b[1;32m--> 103\u001b[0m A_new, C_new \u001b[38;5;241m=\u001b[39m left_orthogonal(M_new)\n\u001b[0;32m    104\u001b[0m state[c_site] \u001b[38;5;241m=\u001b[39m A_new  \u001b[38;5;66;03m# update the centre tensor, now left-orthogonal\u001b[39;00m\n\u001b[0;32m    105\u001b[0m L_con[c_site] \u001b[38;5;241m=\u001b[39m contract_left(L_con[c_site\u001b[38;5;241m-\u001b[39m\u001b[38;5;241m1\u001b[39m], A_new, operator[c_site])\n",
      "\u001b[1;31mNameError\u001b[0m: name 'left_orthogonal' is not defined"
     ]
    }
   ],
   "source": [
    "N = 8\n",
    "D = 8\n",
    "H_usual = ops.tilted_ising(N=N)\n",
    "beta = 100\n",
    "H_th = thf.thermofield_hamiltonian(H_usual)\n",
    "H_usual.sites\n",
    "beta_psi = thf.finite_T_thermofield(beta, N, D, H_th, noise=0.1, steps=500)"
   ]
  },
  {
   "cell_type": "markdown",
   "id": "d8210182",
   "metadata": {},
   "source": []
  },
  {
   "cell_type": "code",
   "execution_count": null,
   "id": "72b221dc",
   "metadata": {},
   "outputs": [],
   "source": []
  }
 ],
 "metadata": {
  "kernelspec": {
   "display_name": "base",
   "language": "python",
   "name": "python3"
  },
  "language_info": {
   "codemirror_mode": {
    "name": "ipython",
    "version": 3
   },
   "file_extension": ".py",
   "mimetype": "text/x-python",
   "name": "python",
   "nbconvert_exporter": "python",
   "pygments_lexer": "ipython3",
   "version": "3.12.7"
  }
 },
 "nbformat": 4,
 "nbformat_minor": 5
}
